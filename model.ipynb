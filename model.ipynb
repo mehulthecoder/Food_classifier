{
  "cells": [
    {
      "cell_type": "code",
      "execution_count": 4,
      "metadata": {
        "colab": {
          "base_uri": "https://localhost:8080/"
        },
        "id": "EA65EoFodx3F",
        "outputId": "142882c1-724c-4ced-b864-8956279fc270"
      },
      "outputs": [
        {
          "name": "stdout",
          "output_type": "stream",
          "text": [
            "Found 1400 images belonging to 20 classes.\n",
            "Found 600 images belonging to 20 classes.\n",
            "Epoch 1/25\n",
            "43/43 [==============================] - 112s 3s/step - loss: 3.1209 - accuracy: 0.0614 - val_loss: 2.8611 - val_accuracy: 0.1059\n",
            "Epoch 2/25\n",
            "43/43 [==============================] - 90s 2s/step - loss: 2.8145 - accuracy: 0.1192 - val_loss: 2.6640 - val_accuracy: 0.1597\n",
            "Epoch 3/25\n",
            "43/43 [==============================] - 91s 2s/step - loss: 2.6490 - accuracy: 0.1542 - val_loss: 2.6490 - val_accuracy: 0.1788\n",
            "Epoch 4/25\n",
            "43/43 [==============================] - 90s 2s/step - loss: 2.4139 - accuracy: 0.2588 - val_loss: 2.4152 - val_accuracy: 0.2743\n",
            "Epoch 5/25\n",
            "43/43 [==============================] - 89s 2s/step - loss: 2.2380 - accuracy: 0.2997 - val_loss: 2.2224 - val_accuracy: 0.3229\n",
            "Epoch 6/25\n",
            "43/43 [==============================] - 91s 2s/step - loss: 2.0815 - accuracy: 0.3618 - val_loss: 2.2444 - val_accuracy: 0.3611\n",
            "Epoch 7/25\n",
            "43/43 [==============================] - 90s 2s/step - loss: 1.9211 - accuracy: 0.4035 - val_loss: 2.0762 - val_accuracy: 0.4184\n",
            "Epoch 8/25\n",
            "43/43 [==============================] - 91s 2s/step - loss: 1.7663 - accuracy: 0.4554 - val_loss: 1.9246 - val_accuracy: 0.4271\n",
            "Epoch 9/25\n",
            "43/43 [==============================] - 90s 2s/step - loss: 1.6684 - accuracy: 0.4803 - val_loss: 1.7936 - val_accuracy: 0.4601\n",
            "Epoch 10/25\n",
            "43/43 [==============================] - 90s 2s/step - loss: 1.5353 - accuracy: 0.5387 - val_loss: 1.9771 - val_accuracy: 0.4288\n",
            "Epoch 11/25\n",
            "43/43 [==============================] - 92s 2s/step - loss: 1.4239 - accuracy: 0.5526 - val_loss: 1.9158 - val_accuracy: 0.4809\n",
            "Epoch 12/25\n",
            "43/43 [==============================] - 90s 2s/step - loss: 1.2513 - accuracy: 0.6221 - val_loss: 1.8792 - val_accuracy: 0.4965\n",
            "Epoch 13/25\n",
            "43/43 [==============================] - 90s 2s/step - loss: 1.1131 - accuracy: 0.6499 - val_loss: 1.9337 - val_accuracy: 0.5035\n",
            "Epoch 14/25\n",
            "43/43 [==============================] - 90s 2s/step - loss: 1.0432 - accuracy: 0.6820 - val_loss: 1.8121 - val_accuracy: 0.5365\n",
            "Epoch 15/25\n",
            "43/43 [==============================] - 89s 2s/step - loss: 0.9105 - accuracy: 0.7251 - val_loss: 1.9608 - val_accuracy: 0.5382\n",
            "Epoch 16/25\n",
            "43/43 [==============================] - 89s 2s/step - loss: 0.8872 - accuracy: 0.7295 - val_loss: 1.9407 - val_accuracy: 0.5538\n",
            "Epoch 17/25\n",
            "43/43 [==============================] - 92s 2s/step - loss: 0.7579 - accuracy: 0.7749 - val_loss: 2.3056 - val_accuracy: 0.5312\n",
            "Epoch 18/25\n",
            "43/43 [==============================] - 91s 2s/step - loss: 0.7318 - accuracy: 0.7639 - val_loss: 2.3835 - val_accuracy: 0.5139\n",
            "Epoch 19/25\n",
            "43/43 [==============================] - 90s 2s/step - loss: 0.6842 - accuracy: 0.7800 - val_loss: 2.1101 - val_accuracy: 0.5851\n",
            "Epoch 20/25\n",
            "43/43 [==============================] - 102s 2s/step - loss: 0.4625 - accuracy: 0.8487 - val_loss: 2.2680 - val_accuracy: 0.5712\n",
            "Epoch 21/25\n",
            "43/43 [==============================] - 92s 2s/step - loss: 0.4885 - accuracy: 0.8399 - val_loss: 2.8597 - val_accuracy: 0.5017\n"
          ]
        }
      ],
      "source": [
        "import tensorflow as tf\n",
        "from tensorflow.keras import layers, models\n",
        "from tensorflow.keras.preprocessing.image import ImageDataGenerator\n",
        "from tensorflow.keras.optimizers import Adam\n",
        "from tensorflow.keras.callbacks import EarlyStopping\n",
        "from tensorflow.keras.models import save_model\n",
        "\n",
        "# Path to your training and testing datasets\n",
        "train_data_dir = 'C:/Users/91761/Downloads/food_dataset/food20dataset/train_set'\n",
        "test_data_dir = 'C:/Users/91761/Downloads/food_dataset/food20dataset/test_set'\n",
        "\n",
        "# Define model architecture\n",
        "model = models.Sequential()\n",
        "\n",
        "model.add(layers.Input(shape=(224, 224, 3)))\n",
        "\n",
        "model.add(layers.Conv2D(32, (3, 3), activation='relu'))\n",
        "model.add(layers.MaxPooling2D((2, 2)))\n",
        "\n",
        "model.add(layers.Conv2D(64, (3, 3), activation='relu'))\n",
        "model.add(layers.MaxPooling2D((2, 2)))\n",
        "\n",
        "model.add(layers.Conv2D(128, (3, 3), activation='relu'))\n",
        "model.add(layers.MaxPooling2D((2, 2)))\n",
        "\n",
        "model.add(layers.Flatten())\n",
        "model.add(layers.Dense(128, activation='relu'))\n",
        "model.add(layers.Dense(20, activation='softmax'))# 20 for 20 classes\n",
        "\n",
        "# Compile the model\n",
        "model.compile(optimizer=Adam(learning_rate=0.001), loss='categorical_crossentropy', metrics=['accuracy'])\n",
        "\n",
        "# Data augmentation for the training set\n",
        "train_datagen = ImageDataGenerator(rescale=1./255, shear_range=0.2, zoom_range=0.2, horizontal_flip=True)\n",
        "\n",
        "# No data augmentation for the test set\n",
        "test_datagen = ImageDataGenerator(rescale=1./255)\n",
        "\n",
        "# Create data generators\n",
        "batch_size = 32\n",
        "train_generator = train_datagen.flow_from_directory(train_data_dir, target_size=(224, 224), batch_size=batch_size,\n",
        "                                                    class_mode='categorical')\n",
        "\n",
        "test_generator = test_datagen.flow_from_directory(test_data_dir, target_size=(224, 224), batch_size=batch_size,\n",
        "                                                  class_mode='categorical')\n",
        "\n",
        "early_stop = EarlyStopping(monitor = 'val_loss', mode='min', patience = 1, restore_best_weights = True)\n",
        "\n",
        "# Train the model\n",
        "history = model.fit(train_generator,\n",
        "                    steps_per_epoch=train_generator.samples // batch_size,\n",
        "                    epochs=25,\n",
        "                    validation_data=test_generator,\n",
        "                    validation_steps=test_generator.samples // batch_size,\n",
        "                    callbacks = [early_stop])\n",
        "\n",
        "# Save the trained model\n",
        "model.save('food_classification_model.h5')\n"
      ]
    },
    {
      "cell_type": "markdown",
      "metadata": {
        "id": "UVF-0w85PUa3"
      },
      "source": [
        "# New section"
      ]
    }
  ],
  "metadata": {
    "colab": {
      "provenance": []
    },
    "kernelspec": {
      "display_name": "Python 3",
      "name": "python3"
    },
    "language_info": {
      "codemirror_mode": {
        "name": "ipython",
        "version": 3
      },
      "file_extension": ".py",
      "mimetype": "text/x-python",
      "name": "python",
      "nbconvert_exporter": "python",
      "pygments_lexer": "ipython3",
      "version": "3.11.2"
    }
  },
  "nbformat": 4,
  "nbformat_minor": 0
}
